{
 "cells": [
  {
   "cell_type": "code",
   "execution_count": 39,
   "metadata": {},
   "outputs": [],
   "source": [
    "import numpy as np\n",
    "import pandas as pd\n",
    "import scipy\n",
    "import matplotlib.pyplot as plt\n",
    "import seaborn as sns\n",
    "from sklearn.preprocessing import normalize\n",
    "%matplotlib inline"
   ]
  },
  {
   "cell_type": "code",
   "execution_count": 40,
   "metadata": {},
   "outputs": [],
   "source": [
    "# Load in 2014 data\n",
    "df = pd.read_csv('results2014.csv')"
   ]
  },
  {
   "cell_type": "code",
   "execution_count": 41,
   "metadata": {},
   "outputs": [
    {
     "data": {
      "text/html": [
       "<div>\n",
       "<style scoped>\n",
       "    .dataframe tbody tr th:only-of-type {\n",
       "        vertical-align: middle;\n",
       "    }\n",
       "\n",
       "    .dataframe tbody tr th {\n",
       "        vertical-align: top;\n",
       "    }\n",
       "\n",
       "    .dataframe thead th {\n",
       "        text-align: right;\n",
       "    }\n",
       "</style>\n",
       "<table border=\"1\" class=\"dataframe\">\n",
       "  <thead>\n",
       "    <tr style=\"text-align: right;\">\n",
       "      <th></th>\n",
       "      <th>10k</th>\n",
       "      <th>name</th>\n",
       "      <th>division</th>\n",
       "      <th>25k</th>\n",
       "      <th>gender</th>\n",
       "      <th>age</th>\n",
       "      <th>official</th>\n",
       "      <th>bib</th>\n",
       "      <th>genderdiv</th>\n",
       "      <th>ctz</th>\n",
       "      <th>...</th>\n",
       "      <th>overall</th>\n",
       "      <th>pace</th>\n",
       "      <th>state</th>\n",
       "      <th>30k</th>\n",
       "      <th>5k</th>\n",
       "      <th>half</th>\n",
       "      <th>20k</th>\n",
       "      <th>country</th>\n",
       "      <th>city</th>\n",
       "      <th>40k</th>\n",
       "    </tr>\n",
       "  </thead>\n",
       "  <tbody>\n",
       "    <tr>\n",
       "      <th>25698</th>\n",
       "      <td>64.83</td>\n",
       "      <td>Fonseca, Gregory A.</td>\n",
       "      <td>4877</td>\n",
       "      <td>163.90</td>\n",
       "      <td>M</td>\n",
       "      <td>35</td>\n",
       "      <td>282.73</td>\n",
       "      <td>29045</td>\n",
       "      <td>14358</td>\n",
       "      <td>NaN</td>\n",
       "      <td>...</td>\n",
       "      <td>25197</td>\n",
       "      <td>10.80</td>\n",
       "      <td>TX</td>\n",
       "      <td>198.27</td>\n",
       "      <td>32.08</td>\n",
       "      <td>136.70</td>\n",
       "      <td>129.48</td>\n",
       "      <td>USA</td>\n",
       "      <td>Austin</td>\n",
       "      <td>267.78</td>\n",
       "    </tr>\n",
       "    <tr>\n",
       "      <th>23147</th>\n",
       "      <td>65.53</td>\n",
       "      <td>Kelley, Kacie A.</td>\n",
       "      <td>6059</td>\n",
       "      <td>172.82</td>\n",
       "      <td>F</td>\n",
       "      <td>27</td>\n",
       "      <td>316.37</td>\n",
       "      <td>26324</td>\n",
       "      <td>12556</td>\n",
       "      <td>NaN</td>\n",
       "      <td>...</td>\n",
       "      <td>28586</td>\n",
       "      <td>12.07</td>\n",
       "      <td>MA</td>\n",
       "      <td>217.87</td>\n",
       "      <td>32.08</td>\n",
       "      <td>143.07</td>\n",
       "      <td>135.60</td>\n",
       "      <td>USA</td>\n",
       "      <td>South Boston</td>\n",
       "      <td>301.40</td>\n",
       "    </tr>\n",
       "    <tr>\n",
       "      <th>19780</th>\n",
       "      <td>55.33</td>\n",
       "      <td>Wallander, Celeste A.</td>\n",
       "      <td>855</td>\n",
       "      <td>144.37</td>\n",
       "      <td>F</td>\n",
       "      <td>52</td>\n",
       "      <td>258.05</td>\n",
       "      <td>22588</td>\n",
       "      <td>8863</td>\n",
       "      <td>NaN</td>\n",
       "      <td>...</td>\n",
       "      <td>21499</td>\n",
       "      <td>9.85</td>\n",
       "      <td>MD</td>\n",
       "      <td>176.33</td>\n",
       "      <td>27.23</td>\n",
       "      <td>120.45</td>\n",
       "      <td>114.08</td>\n",
       "      <td>USA</td>\n",
       "      <td>Bethesda</td>\n",
       "      <td>242.90</td>\n",
       "    </tr>\n",
       "    <tr>\n",
       "      <th>26354</th>\n",
       "      <td>47.95</td>\n",
       "      <td>Heilbrun, Mark R.</td>\n",
       "      <td>881</td>\n",
       "      <td>-</td>\n",
       "      <td>M</td>\n",
       "      <td>51</td>\n",
       "      <td>210.87</td>\n",
       "      <td>29741</td>\n",
       "      <td>7368</td>\n",
       "      <td>NaN</td>\n",
       "      <td>...</td>\n",
       "      <td>9594</td>\n",
       "      <td>8.05</td>\n",
       "      <td>VA</td>\n",
       "      <td>-</td>\n",
       "      <td>22.87</td>\n",
       "      <td>-</td>\n",
       "      <td>-</td>\n",
       "      <td>USA</td>\n",
       "      <td>Fairfax Station</td>\n",
       "      <td>-</td>\n",
       "    </tr>\n",
       "    <tr>\n",
       "      <th>28927</th>\n",
       "      <td>58.55</td>\n",
       "      <td>Formica, Amy</td>\n",
       "      <td>1629</td>\n",
       "      <td>148.60</td>\n",
       "      <td>F</td>\n",
       "      <td>40</td>\n",
       "      <td>262.68</td>\n",
       "      <td>32501</td>\n",
       "      <td>9270</td>\n",
       "      <td>NaN</td>\n",
       "      <td>...</td>\n",
       "      <td>22292</td>\n",
       "      <td>10.03</td>\n",
       "      <td>PA</td>\n",
       "      <td>182.10</td>\n",
       "      <td>29.30</td>\n",
       "      <td>124.72</td>\n",
       "      <td>118.37</td>\n",
       "      <td>USA</td>\n",
       "      <td>Butler</td>\n",
       "      <td>248.75</td>\n",
       "    </tr>\n",
       "    <tr>\n",
       "      <th>9187</th>\n",
       "      <td>43.35</td>\n",
       "      <td>Bishop, Thomas W</td>\n",
       "      <td>1165</td>\n",
       "      <td>112.90</td>\n",
       "      <td>M</td>\n",
       "      <td>49</td>\n",
       "      <td>206.67</td>\n",
       "      <td>10522</td>\n",
       "      <td>6636</td>\n",
       "      <td>NaN</td>\n",
       "      <td>...</td>\n",
       "      <td>8267</td>\n",
       "      <td>7.88</td>\n",
       "      <td>TN</td>\n",
       "      <td>138.42</td>\n",
       "      <td>21.70</td>\n",
       "      <td>94.13</td>\n",
       "      <td>89.05</td>\n",
       "      <td>USA</td>\n",
       "      <td>Telford</td>\n",
       "      <td>193.95</td>\n",
       "    </tr>\n",
       "    <tr>\n",
       "      <th>28875</th>\n",
       "      <td>64.00</td>\n",
       "      <td>Yu, Sharon L</td>\n",
       "      <td>315</td>\n",
       "      <td>169.18</td>\n",
       "      <td>F</td>\n",
       "      <td>61</td>\n",
       "      <td>343.07</td>\n",
       "      <td>32447</td>\n",
       "      <td>13446</td>\n",
       "      <td>NaN</td>\n",
       "      <td>...</td>\n",
       "      <td>30279</td>\n",
       "      <td>13.10</td>\n",
       "      <td>MA</td>\n",
       "      <td>217.35</td>\n",
       "      <td>31.18</td>\n",
       "      <td>139.75</td>\n",
       "      <td>132.05</td>\n",
       "      <td>USA</td>\n",
       "      <td>Haverhill</td>\n",
       "      <td>323.28</td>\n",
       "    </tr>\n",
       "    <tr>\n",
       "      <th>30268</th>\n",
       "      <td>55.60</td>\n",
       "      <td>Oh, Dan</td>\n",
       "      <td>1445</td>\n",
       "      <td>150.62</td>\n",
       "      <td>M</td>\n",
       "      <td>59</td>\n",
       "      <td>284.35</td>\n",
       "      <td>33989</td>\n",
       "      <td>14445</td>\n",
       "      <td>NaN</td>\n",
       "      <td>...</td>\n",
       "      <td>25398</td>\n",
       "      <td>10.85</td>\n",
       "      <td>NJ</td>\n",
       "      <td>185.85</td>\n",
       "      <td>28.22</td>\n",
       "      <td>124.00</td>\n",
       "      <td>117.62</td>\n",
       "      <td>USA</td>\n",
       "      <td>Leonia</td>\n",
       "      <td>269.38</td>\n",
       "    </tr>\n",
       "    <tr>\n",
       "      <th>19521</th>\n",
       "      <td>53.63</td>\n",
       "      <td>Clark, Brenda L</td>\n",
       "      <td>574</td>\n",
       "      <td>133.63</td>\n",
       "      <td>F</td>\n",
       "      <td>47</td>\n",
       "      <td>226.72</td>\n",
       "      <td>22299</td>\n",
       "      <td>4808</td>\n",
       "      <td>NaN</td>\n",
       "      <td>...</td>\n",
       "      <td>14386</td>\n",
       "      <td>8.65</td>\n",
       "      <td>MI</td>\n",
       "      <td>161.07</td>\n",
       "      <td>26.80</td>\n",
       "      <td>112.57</td>\n",
       "      <td>106.83</td>\n",
       "      <td>USA</td>\n",
       "      <td>Fairgrove</td>\n",
       "      <td>215.38</td>\n",
       "    </tr>\n",
       "    <tr>\n",
       "      <th>21756</th>\n",
       "      <td>55.60</td>\n",
       "      <td>McMahon, Nicola J.</td>\n",
       "      <td>285</td>\n",
       "      <td>142.82</td>\n",
       "      <td>F</td>\n",
       "      <td>57</td>\n",
       "      <td>254.22</td>\n",
       "      <td>24808</td>\n",
       "      <td>8493</td>\n",
       "      <td>NaN</td>\n",
       "      <td>...</td>\n",
       "      <td>20838</td>\n",
       "      <td>9.70</td>\n",
       "      <td>CA</td>\n",
       "      <td>175.12</td>\n",
       "      <td>27.45</td>\n",
       "      <td>119.27</td>\n",
       "      <td>113.10</td>\n",
       "      <td>USA</td>\n",
       "      <td>Coronado</td>\n",
       "      <td>240.53</td>\n",
       "    </tr>\n",
       "  </tbody>\n",
       "</table>\n",
       "<p>10 rows × 21 columns</p>\n",
       "</div>"
      ],
      "text/plain": [
       "         10k                   name  division     25k gender  age  official  \\\n",
       "25698  64.83    Fonseca, Gregory A.      4877  163.90      M   35    282.73   \n",
       "23147  65.53       Kelley, Kacie A.      6059  172.82      F   27    316.37   \n",
       "19780  55.33  Wallander, Celeste A.       855  144.37      F   52    258.05   \n",
       "26354  47.95      Heilbrun, Mark R.       881       -      M   51    210.87   \n",
       "28927  58.55           Formica, Amy      1629  148.60      F   40    262.68   \n",
       "9187   43.35       Bishop, Thomas W      1165  112.90      M   49    206.67   \n",
       "28875  64.00           Yu, Sharon L       315  169.18      F   61    343.07   \n",
       "30268  55.60                Oh, Dan      1445  150.62      M   59    284.35   \n",
       "19521  53.63        Clark, Brenda L       574  133.63      F   47    226.72   \n",
       "21756  55.60     McMahon, Nicola J.       285  142.82      F   57    254.22   \n",
       "\n",
       "         bib  genderdiv  ctz   ...   overall   pace  state     30k     5k  \\\n",
       "25698  29045      14358  NaN   ...     25197  10.80     TX  198.27  32.08   \n",
       "23147  26324      12556  NaN   ...     28586  12.07     MA  217.87  32.08   \n",
       "19780  22588       8863  NaN   ...     21499   9.85     MD  176.33  27.23   \n",
       "26354  29741       7368  NaN   ...      9594   8.05     VA       -  22.87   \n",
       "28927  32501       9270  NaN   ...     22292  10.03     PA  182.10  29.30   \n",
       "9187   10522       6636  NaN   ...      8267   7.88     TN  138.42  21.70   \n",
       "28875  32447      13446  NaN   ...     30279  13.10     MA  217.35  31.18   \n",
       "30268  33989      14445  NaN   ...     25398  10.85     NJ  185.85  28.22   \n",
       "19521  22299       4808  NaN   ...     14386   8.65     MI  161.07  26.80   \n",
       "21756  24808       8493  NaN   ...     20838   9.70     CA  175.12  27.45   \n",
       "\n",
       "         half     20k country             city     40k  \n",
       "25698  136.70  129.48     USA           Austin  267.78  \n",
       "23147  143.07  135.60     USA     South Boston  301.40  \n",
       "19780  120.45  114.08     USA         Bethesda  242.90  \n",
       "26354       -       -     USA  Fairfax Station       -  \n",
       "28927  124.72  118.37     USA           Butler  248.75  \n",
       "9187    94.13   89.05     USA          Telford  193.95  \n",
       "28875  139.75  132.05     USA        Haverhill  323.28  \n",
       "30268  124.00  117.62     USA           Leonia  269.38  \n",
       "19521  112.57  106.83     USA        Fairgrove  215.38  \n",
       "21756  119.27  113.10     USA         Coronado  240.53  \n",
       "\n",
       "[10 rows x 21 columns]"
      ]
     },
     "execution_count": 41,
     "metadata": {},
     "output_type": "execute_result"
    }
   ],
   "source": [
    "df.sample(10)"
   ]
  },
  {
   "cell_type": "code",
   "execution_count": 42,
   "metadata": {},
   "outputs": [],
   "source": [
    "# Drop columns not related to race performance.\n",
    "df = df.drop(columns=['name', 'bib', 'ctz', 'state', 'country', 'city'])\n",
    "\n",
    "# Remove hyphens from missing entries\n",
    "df = df.replace(to_replace='-', value='')\n",
    "\n",
    "# Convert splits to numeric\n",
    "splits = ['10k', '25k', '35k', '30k', '5k', 'half', '20k', '40k' ]\n",
    "for split in splits:\n",
    "    df[split] = pd.to_numeric(df[split])\n",
    "\n",
    "# Binarize gender so 1 = female, 0 = male\n",
    "df['gender'] = np.where(df['gender']=='F', 1, 0)\n",
    "\n",
    "# Drop missing data\n",
    "df = df.dropna()"
   ]
  },
  {
   "cell_type": "code",
   "execution_count": 43,
   "metadata": {},
   "outputs": [
    {
     "data": {
      "text/plain": [
       "10k          float64\n",
       "division       int64\n",
       "25k          float64\n",
       "gender         int64\n",
       "age            int64\n",
       "official     float64\n",
       "genderdiv      int64\n",
       "35k          float64\n",
       "overall        int64\n",
       "pace         float64\n",
       "30k          float64\n",
       "5k           float64\n",
       "half         float64\n",
       "20k          float64\n",
       "40k          float64\n",
       "dtype: object"
      ]
     },
     "execution_count": 43,
     "metadata": {},
     "output_type": "execute_result"
    }
   ],
   "source": [
    "df.dtypes"
   ]
  },
  {
   "cell_type": "code",
   "execution_count": 59,
   "metadata": {},
   "outputs": [
    {
     "data": {
      "text/html": [
       "<div>\n",
       "<style scoped>\n",
       "    .dataframe tbody tr th:only-of-type {\n",
       "        vertical-align: middle;\n",
       "    }\n",
       "\n",
       "    .dataframe tbody tr th {\n",
       "        vertical-align: top;\n",
       "    }\n",
       "\n",
       "    .dataframe thead th {\n",
       "        text-align: right;\n",
       "    }\n",
       "</style>\n",
       "<table border=\"1\" class=\"dataframe\">\n",
       "  <thead>\n",
       "    <tr style=\"text-align: right;\">\n",
       "      <th></th>\n",
       "      <th>10k</th>\n",
       "      <th>division</th>\n",
       "      <th>25k</th>\n",
       "      <th>gender</th>\n",
       "      <th>age</th>\n",
       "      <th>official</th>\n",
       "      <th>genderdiv</th>\n",
       "      <th>35k</th>\n",
       "      <th>overall</th>\n",
       "      <th>pace</th>\n",
       "      <th>30k</th>\n",
       "      <th>5k</th>\n",
       "      <th>half</th>\n",
       "      <th>20k</th>\n",
       "      <th>40k</th>\n",
       "    </tr>\n",
       "  </thead>\n",
       "  <tbody>\n",
       "    <tr>\n",
       "      <th>0</th>\n",
       "      <td>17.37</td>\n",
       "      <td>8</td>\n",
       "      <td>47.67</td>\n",
       "      <td>0</td>\n",
       "      <td>47</td>\n",
       "      <td>85.25</td>\n",
       "      <td>8</td>\n",
       "      <td>71.40</td>\n",
       "      <td>8</td>\n",
       "      <td>3.27</td>\n",
       "      <td>59.18</td>\n",
       "      <td>8.02</td>\n",
       "      <td>39.72</td>\n",
       "      <td>37.65</td>\n",
       "      <td>80.43</td>\n",
       "    </tr>\n",
       "    <tr>\n",
       "      <th>1</th>\n",
       "      <td>32.58</td>\n",
       "      <td>1</td>\n",
       "      <td>82.43</td>\n",
       "      <td>1</td>\n",
       "      <td>33</td>\n",
       "      <td>138.95</td>\n",
       "      <td>1</td>\n",
       "      <td>116.37</td>\n",
       "      <td>21</td>\n",
       "      <td>5.30</td>\n",
       "      <td>99.33</td>\n",
       "      <td>16.22</td>\n",
       "      <td>69.47</td>\n",
       "      <td>65.83</td>\n",
       "      <td>132.10</td>\n",
       "    </tr>\n",
       "    <tr>\n",
       "      <th>2</th>\n",
       "      <td>16.62</td>\n",
       "      <td>1</td>\n",
       "      <td>45.80</td>\n",
       "      <td>0</td>\n",
       "      <td>41</td>\n",
       "      <td>80.60</td>\n",
       "      <td>1</td>\n",
       "      <td>67.42</td>\n",
       "      <td>1</td>\n",
       "      <td>3.08</td>\n",
       "      <td>56.45</td>\n",
       "      <td>7.75</td>\n",
       "      <td>38.03</td>\n",
       "      <td>36.10</td>\n",
       "      <td>76.10</td>\n",
       "    </tr>\n",
       "    <tr>\n",
       "      <th>3</th>\n",
       "      <td>32.57</td>\n",
       "      <td>3</td>\n",
       "      <td>82.43</td>\n",
       "      <td>1</td>\n",
       "      <td>24</td>\n",
       "      <td>140.58</td>\n",
       "      <td>3</td>\n",
       "      <td>116.37</td>\n",
       "      <td>27</td>\n",
       "      <td>5.37</td>\n",
       "      <td>99.33</td>\n",
       "      <td>16.20</td>\n",
       "      <td>69.47</td>\n",
       "      <td>65.83</td>\n",
       "      <td>132.95</td>\n",
       "    </tr>\n",
       "    <tr>\n",
       "      <th>4</th>\n",
       "      <td>17.12</td>\n",
       "      <td>2</td>\n",
       "      <td>46.37</td>\n",
       "      <td>0</td>\n",
       "      <td>40</td>\n",
       "      <td>81.23</td>\n",
       "      <td>2</td>\n",
       "      <td>67.83</td>\n",
       "      <td>2</td>\n",
       "      <td>3.10</td>\n",
       "      <td>57.03</td>\n",
       "      <td>8.02</td>\n",
       "      <td>38.60</td>\n",
       "      <td>36.58</td>\n",
       "      <td>76.72</td>\n",
       "    </tr>\n",
       "  </tbody>\n",
       "</table>\n",
       "</div>"
      ],
      "text/plain": [
       "     10k  division    25k  gender  age  official  genderdiv     35k  overall  \\\n",
       "0  17.37         8  47.67       0   47     85.25          8   71.40        8   \n",
       "1  32.58         1  82.43       1   33    138.95          1  116.37       21   \n",
       "2  16.62         1  45.80       0   41     80.60          1   67.42        1   \n",
       "3  32.57         3  82.43       1   24    140.58          3  116.37       27   \n",
       "4  17.12         2  46.37       0   40     81.23          2   67.83        2   \n",
       "\n",
       "   pace    30k     5k   half    20k     40k  \n",
       "0  3.27  59.18   8.02  39.72  37.65   80.43  \n",
       "1  5.30  99.33  16.22  69.47  65.83  132.10  \n",
       "2  3.08  56.45   7.75  38.03  36.10   76.10  \n",
       "3  5.37  99.33  16.20  69.47  65.83  132.95  \n",
       "4  3.10  57.03   8.02  38.60  36.58   76.72  "
      ]
     },
     "execution_count": 59,
     "metadata": {},
     "output_type": "execute_result"
    }
   ],
   "source": [
    "df.head()"
   ]
  },
  {
   "cell_type": "code",
   "execution_count": 44,
   "metadata": {},
   "outputs": [],
   "source": [
    "# Split data into smaller set for memory reasons\n",
    "from sklearn.model_selection import train_test_split\n",
    "df1, df2 = train_test_split(df, test_size=0.90, random_state=42)\n",
    "\n",
    "# Normalize smaller dataset\n",
    "df1_norm = normalize(df1)"
   ]
  },
  {
   "cell_type": "code",
   "execution_count": 45,
   "metadata": {},
   "outputs": [],
   "source": [
    "from sklearn.cluster import KMeans\n",
    "from sklearn.decomposition import PCA\n",
    "from sklearn import metrics\n",
    "from sklearn.model_selection import cross_val_score"
   ]
  },
  {
   "cell_type": "code",
   "execution_count": 46,
   "metadata": {},
   "outputs": [],
   "source": [
    "# Specify features - focus on splits every 10k and final time\n",
    "X = df1.loc[:, ['10k', '20k', '30k', '40k', 'overall']]\n",
    "X_norm = normalize(X)"
   ]
  },
  {
   "cell_type": "markdown",
   "metadata": {},
   "source": [
    "## K Means"
   ]
  },
  {
   "cell_type": "code",
   "execution_count": 47,
   "metadata": {},
   "outputs": [
    {
     "name": "stdout",
     "output_type": "stream",
     "text": [
      "K: 2, silhouette: 0.9490132196805277\n",
      "K: 3, silhouette: 0.9046569578896213\n",
      "K: 4, silhouette: 0.8676181730422375\n",
      "K: 5, silhouette: 0.8072241470971726\n",
      "K: 6, silhouette: 0.7894699301402841\n"
     ]
    }
   ],
   "source": [
    "# Run k means model\n",
    "for k in np.arange(2, 7, 1):\n",
    "    model = KMeans(n_clusters=k, random_state=42).fit(X_norm)\n",
    "    labels = model.labels_\n",
    "    silhouette = metrics.silhouette_score(X_norm, labels, metric='euclidean')\n",
    "    print('K: {}, silhouette: {}'.format(k, silhouette))"
   ]
  },
  {
   "cell_type": "markdown",
   "metadata": {},
   "source": [
    "## Mean Shift"
   ]
  },
  {
   "cell_type": "code",
   "execution_count": 48,
   "metadata": {},
   "outputs": [
    {
     "name": "stdout",
     "output_type": "stream",
     "text": [
      "K: 28, silhouette: 0.8208318952276669\n"
     ]
    }
   ],
   "source": [
    "from sklearn.cluster import MeanShift, estimate_bandwidth\n",
    "\n",
    "# Set bandwidth estimator\n",
    "bandwidth = estimate_bandwidth(X_norm, quantile=0.2, n_samples=500)\n",
    "\n",
    "# Declare and fit model\n",
    "ms = MeanShift(bandwidth=bandwidth, bin_seeding=True)\n",
    "ms.fit(X_norm)\n",
    "\n",
    "# Get labels, number of clusters, similarity score\n",
    "labels = ms.labels_\n",
    "n_clusters = len(np.unique(labels))\n",
    "silhouette = metrics.silhouette_score(X_norm, labels, metric='euclidean')\n",
    "print('K: {}, silhouette: {}'.format(n_clusters, silhouette))"
   ]
  },
  {
   "cell_type": "markdown",
   "metadata": {},
   "source": [
    "## Spectral Clustering"
   ]
  },
  {
   "cell_type": "code",
   "execution_count": 49,
   "metadata": {},
   "outputs": [
    {
     "name": "stdout",
     "output_type": "stream",
     "text": [
      "K: 2, silhouette: 0.7894699301402841\n",
      "K: 3, silhouette: 0.7894699301402841\n"
     ]
    }
   ],
   "source": [
    "from sklearn.cluster import SpectralClustering\n",
    "\n",
    "# Run spectral clustering over range of k values\n",
    "for k in np.arange(2, 4, 1):\n",
    "    sc = SpectralClustering(n_clusters=k, random_state=42).fit(X_norm)\n",
    "    labels = model.labels_\n",
    "    silhouette = metrics.silhouette_score(X_norm, labels, metric='euclidean')\n",
    "    print('K: {}, silhouette: {}'.format(k, silhouette))\n",
    "\n",
    "# Memory error if run on higher k"
   ]
  },
  {
   "cell_type": "markdown",
   "metadata": {},
   "source": [
    "## Affinity Propagation"
   ]
  },
  {
   "cell_type": "code",
   "execution_count": 50,
   "metadata": {},
   "outputs": [
    {
     "name": "stdout",
     "output_type": "stream",
     "text": [
      "K: 1029\n"
     ]
    }
   ],
   "source": [
    "from sklearn.cluster import AffinityPropagation\n",
    "\n",
    "# Run and fit model\n",
    "af = AffinityPropagation().fit(X_norm)\n",
    "\n",
    "# Get number of clusters\n",
    "cluster_centers_indices = af.cluster_centers_indices_\n",
    "n_clusters = len(cluster_centers_indices)\n",
    "print('K: {}'.format(n_clusters))"
   ]
  },
  {
   "cell_type": "markdown",
   "metadata": {},
   "source": [
    "## K-Means"
   ]
  },
  {
   "cell_type": "code",
   "execution_count": 51,
   "metadata": {},
   "outputs": [
    {
     "name": "stderr",
     "output_type": "stream",
     "text": [
      "/usr/local/lib/python3.6/site-packages/ipykernel_launcher.py:8: SettingWithCopyWarning: \n",
      "A value is trying to be set on a copy of a slice from a DataFrame.\n",
      "Try using .loc[row_indexer,col_indexer] = value instead\n",
      "\n",
      "See the caveats in the documentation: http://pandas.pydata.org/pandas-docs/stable/indexing.html#indexing-view-versus-copy\n",
      "  \n"
     ]
    }
   ],
   "source": [
    "# PCA for plotting.  Reduce to 2 components\n",
    "pca = PCA(n_components=2)\n",
    "pca_X = pca.fit(X_norm).transform(X_norm)\n",
    "\n",
    "# Get cluster assignments with k=2\n",
    "model = KMeans(n_clusters=2, random_state=42).fit(X_norm)\n",
    "labels = model.labels_\n",
    "df1['cluster'] = labels"
   ]
  },
  {
   "cell_type": "code",
   "execution_count": 52,
   "metadata": {},
   "outputs": [
    {
     "data": {
      "image/png": "[encoded data removed]",
      "text/plain": [
       "<Figure size 432x288 with 1 Axes>"
      ]
     },
     "metadata": {},
     "output_type": "display_data"
    }
   ],
   "source": [
    "# Plot PCA components and clusters\n",
    "plt.scatter(pca_X[:, 0], pca_X[:, 1], c=df1['cluster'])\n",
    "plt.tight_layout()\n",
    "plt.title('PCA Components: K=2')\n",
    "plt.show()"
   ]
  },
  {
   "cell_type": "code",
   "execution_count": 53,
   "metadata": {},
   "outputs": [
    {
     "data": {
      "text/html": [
       "<div>\n",
       "<style scoped>\n",
       "    .dataframe tbody tr th:only-of-type {\n",
       "        vertical-align: middle;\n",
       "    }\n",
       "\n",
       "    .dataframe tbody tr th {\n",
       "        vertical-align: top;\n",
       "    }\n",
       "\n",
       "    .dataframe thead th {\n",
       "        text-align: right;\n",
       "    }\n",
       "</style>\n",
       "<table border=\"1\" class=\"dataframe\">\n",
       "  <thead>\n",
       "    <tr style=\"text-align: right;\">\n",
       "      <th></th>\n",
       "      <th>count</th>\n",
       "      <th>mean</th>\n",
       "      <th>std</th>\n",
       "      <th>min</th>\n",
       "      <th>25%</th>\n",
       "      <th>50%</th>\n",
       "      <th>75%</th>\n",
       "      <th>max</th>\n",
       "    </tr>\n",
       "    <tr>\n",
       "      <th>cluster</th>\n",
       "      <th></th>\n",
       "      <th></th>\n",
       "      <th></th>\n",
       "      <th></th>\n",
       "      <th></th>\n",
       "      <th></th>\n",
       "      <th></th>\n",
       "      <th></th>\n",
       "    </tr>\n",
       "  </thead>\n",
       "  <tbody>\n",
       "    <tr>\n",
       "      <th>0</th>\n",
       "      <td>3112.0</td>\n",
       "      <td>16400.417738</td>\n",
       "      <td>9093.401548</td>\n",
       "      <td>481.0</td>\n",
       "      <td>8366.75</td>\n",
       "      <td>16496.0</td>\n",
       "      <td>24471.75</td>\n",
       "      <td>31874.0</td>\n",
       "    </tr>\n",
       "    <tr>\n",
       "      <th>1</th>\n",
       "      <td>52.0</td>\n",
       "      <td>230.750000</td>\n",
       "      <td>127.684795</td>\n",
       "      <td>2.0</td>\n",
       "      <td>143.50</td>\n",
       "      <td>230.0</td>\n",
       "      <td>335.00</td>\n",
       "      <td>456.0</td>\n",
       "    </tr>\n",
       "  </tbody>\n",
       "</table>\n",
       "</div>"
      ],
      "text/plain": [
       "          count          mean          std    min      25%      50%       75%  \\\n",
       "cluster                                                                         \n",
       "0        3112.0  16400.417738  9093.401548  481.0  8366.75  16496.0  24471.75   \n",
       "1          52.0    230.750000   127.684795    2.0   143.50    230.0    335.00   \n",
       "\n",
       "             max  \n",
       "cluster           \n",
       "0        31874.0  \n",
       "1          456.0  "
      ]
     },
     "execution_count": 53,
     "metadata": {},
     "output_type": "execute_result"
    }
   ],
   "source": [
    "# Summary stats, overall time by cluster\n",
    "df1.groupby(['cluster'])['overall'].describe()"
   ]
  },
  {
   "cell_type": "code",
   "execution_count": 62,
   "metadata": {},
   "outputs": [
    {
     "data": {
      "text/html": [
       "<div>\n",
       "<style scoped>\n",
       "    .dataframe tbody tr th:only-of-type {\n",
       "        vertical-align: middle;\n",
       "    }\n",
       "\n",
       "    .dataframe tbody tr th {\n",
       "        vertical-align: top;\n",
       "    }\n",
       "\n",
       "    .dataframe thead th {\n",
       "        text-align: right;\n",
       "    }\n",
       "</style>\n",
       "<table border=\"1\" class=\"dataframe\">\n",
       "  <thead>\n",
       "    <tr style=\"text-align: right;\">\n",
       "      <th></th>\n",
       "      <th>count</th>\n",
       "      <th>mean</th>\n",
       "      <th>std</th>\n",
       "      <th>min</th>\n",
       "      <th>25%</th>\n",
       "      <th>50%</th>\n",
       "      <th>75%</th>\n",
       "      <th>max</th>\n",
       "    </tr>\n",
       "    <tr>\n",
       "      <th>cluster</th>\n",
       "      <th></th>\n",
       "      <th></th>\n",
       "      <th></th>\n",
       "      <th></th>\n",
       "      <th></th>\n",
       "      <th></th>\n",
       "      <th></th>\n",
       "      <th></th>\n",
       "    </tr>\n",
       "  </thead>\n",
       "  <tbody>\n",
       "    <tr>\n",
       "      <th>0</th>\n",
       "      <td>3112.0</td>\n",
       "      <td>0.460797</td>\n",
       "      <td>0.498541</td>\n",
       "      <td>0.0</td>\n",
       "      <td>0.0</td>\n",
       "      <td>0.0</td>\n",
       "      <td>1.0</td>\n",
       "      <td>1.0</td>\n",
       "    </tr>\n",
       "    <tr>\n",
       "      <th>1</th>\n",
       "      <td>52.0</td>\n",
       "      <td>0.096154</td>\n",
       "      <td>0.297678</td>\n",
       "      <td>0.0</td>\n",
       "      <td>0.0</td>\n",
       "      <td>0.0</td>\n",
       "      <td>0.0</td>\n",
       "      <td>1.0</td>\n",
       "    </tr>\n",
       "  </tbody>\n",
       "</table>\n",
       "</div>"
      ],
      "text/plain": [
       "          count      mean       std  min  25%  50%  75%  max\n",
       "cluster                                                     \n",
       "0        3112.0  0.460797  0.498541  0.0  0.0  0.0  1.0  1.0\n",
       "1          52.0  0.096154  0.297678  0.0  0.0  0.0  0.0  1.0"
      ]
     },
     "execution_count": 62,
     "metadata": {},
     "output_type": "execute_result"
    }
   ],
   "source": [
    "# Summary stats, gender distribution by cluster\n",
    "df1.groupby(['cluster'])['gender'].describe()"
   ]
  },
  {
   "cell_type": "code",
   "execution_count": 55,
   "metadata": {},
   "outputs": [
    {
     "data": {
      "image/png": "[encoded data removed]",
      "text/plain": [
       "<Figure size 432x288 with 1 Axes>"
      ]
     },
     "metadata": {},
     "output_type": "display_data"
    }
   ],
   "source": [
    "# Plot 5k split vs overall finish\n",
    "plt.scatter(df1['5k'], df1['overall'], c=df1['cluster'])\n",
    "plt.xlabel('5k')\n",
    "plt.ylabel('overall')\n",
    "plt.title('5k Split vs Overall Finish Time: K=2')\n",
    "plt.show()"
   ]
  },
  {
   "cell_type": "code",
   "execution_count": 56,
   "metadata": {},
   "outputs": [
    {
     "data": {
      "image/png": "[encoded data removed]",
      "text/plain": [
       "<Figure size 432x288 with 1 Axes>"
      ]
     },
     "metadata": {},
     "output_type": "display_data"
    }
   ],
   "source": [
    "# Plot 20k split vs overall finish time\n",
    "plt.scatter(df1['20k'], df1['overall'], c=df1['cluster'])\n",
    "plt.xlabel('20k split')\n",
    "plt.ylabel('overall')\n",
    "plt.title('20k Split vs Overall Finish Time: K=2')\n",
    "plt.show()"
   ]
  },
  {
   "cell_type": "code",
   "execution_count": 57,
   "metadata": {},
   "outputs": [
    {
     "data": {
      "image/png": "[encoded data removed]",
      "text/plain": [
       "<Figure size 432x288 with 1 Axes>"
      ]
     },
     "metadata": {},
     "output_type": "display_data"
    }
   ],
   "source": [
    "# Plot 'half' split vs overall finish time\n",
    "plt.scatter(df1['half'], df1['overall'], c=df1['cluster'])\n",
    "plt.xlabel('Half split')\n",
    "plt.ylabel('overall')\n",
    "plt.title('Half Split vs Overall Finish Time: K=2')\n",
    "plt.show()"
   ]
  },
  {
   "cell_type": "code",
   "execution_count": 58,
   "metadata": {},
   "outputs": [
    {
     "data": {
      "image/png": "[encoded data removed]",
      "text/plain": [
       "<Figure size 432x288 with 1 Axes>"
      ]
     },
     "metadata": {},
     "output_type": "display_data"
    }
   ],
   "source": [
    "# Plot 40k split vs overall finish time\n",
    "plt.scatter(df1['40k'], df1['overall'], c=df1['cluster'])\n",
    "plt.xlabel('40k split')\n",
    "plt.ylabel('overall')\n",
    "plt.title('40k Split vs Overall Finish Time: K=2')\n",
    "plt.show()"
   ]
  },
  {
   "cell_type": "markdown",
   "metadata": {},
   "source": [
    "\n",
    "K Means with k=2 had the cleanest clusters.  k=3 starts to get messy and k=4 is even worse.\n",
    "\n",
    "Majority of data contained in cluster 0\n",
    "\n",
    "Cluster 0 has a much higher mean for overall time than cluster 1\n",
    "\n",
    "Cluster 1 is predominantly men\n",
    "\n",
    "Clustering appears to be identifying fastest runners only"
   ]
  },
  {
   "cell_type": "code",
   "execution_count": null,
   "metadata": {},
   "outputs": [],
   "source": []
  }
 ],
 "metadata": {
  "kernelspec": {
   "display_name": "Python 3",
   "language": "python",
   "name": "python3"
  },
  "language_info": {
   "codemirror_mode": {
    "name": "ipython",
    "version": 3
   },
   "file_extension": ".py",
   "mimetype": "text/x-python",
   "name": "python",
   "nbconvert_exporter": "python",
   "pygments_lexer": "ipython3",
   "version": "3.6.5"
  }
 },
 "nbformat": 4,
 "nbformat_minor": 2
}
